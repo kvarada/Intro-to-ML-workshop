{
 "cells": [
  {
   "cell_type": "markdown",
   "metadata": {},
   "source": [
    "# Exercise 3: Language models and large language models "
   ]
  },
  {
   "cell_type": "markdown",
   "metadata": {},
   "source": [
    "Attribution: Kolhatkar, Varada (2024) [DSCI 575](https://ubc-mds.github.io/DSCI_575_adv-mach-learn/README.html)"
   ]
  },
  {
   "cell_type": "markdown",
   "metadata": {},
   "source": [
    "## Imports <a name=\"im\"></a>"
   ]
  },
  {
   "cell_type": "code",
   "execution_count": null,
   "metadata": {
    "execution": {
     "iopub.execute_input": "2024-12-07T04:43:00.012933Z",
     "iopub.status.busy": "2024-12-07T04:43:00.011967Z",
     "iopub.status.idle": "2024-12-07T04:43:00.017228Z",
     "shell.execute_reply": "2024-12-07T04:43:00.016395Z",
     "shell.execute_reply.started": "2024-12-07T04:43:00.012897Z"
    },
    "trusted": true
   },
   "outputs": [],
   "source": [
    "import os\n",
    "import re\n",
    "import sys\n",
    "from collections import Counter, defaultdict\n",
    "from urllib.request import urlopen\n",
    "from hashlib import sha1\n",
    "\n",
    "import numpy as np\n",
    "import numpy.random as npr\n",
    "import pandas as pd\n",
    "\n",
    "from transformers import pipeline, AutoTokenizer\n",
    "\n",
    "pd.set_option('display.max_colwidth', 200)"
   ]
  },
  {
   "cell_type": "markdown",
   "metadata": {},
   "source": [
    "## Getting Started with Kaggle Kernels\n",
    "<hr>"
   ]
  },
  {
   "cell_type": "markdown",
   "metadata": {},
   "source": [
    "We are going to run this notebook on the cloud using [Kaggle](https://www.kaggle.com). To get started, follow these steps:\n",
    "\n",
    "1. Go to https://www.kaggle.com/kernels\n",
    "\n",
    "2. Make an account if you don't have one, and verify your phone number (to get access to GPUs)\n",
    "3. Select `+ New Notebook`\n",
    "4. Go to `File -> Import Notebook`\n",
    "5. Upload this notebook\n",
    "6. On the right-hand side of your Kaggle notebook, make sure:\n",
    "  \n",
    "  - `Internet` is enabled.\n",
    "\n",
    "Once you've done all your work on Kaggle, you can download the notebook from Kaggle. That way any work you did on Kaggle won't be lost. "
   ]
  },
  {
   "cell_type": "markdown",
   "metadata": {},
   "source": [
    "## Exercise 1: Text Generation using Markov Models\n",
    "\n",
    "### Character-based Markov model of language\n",
    "<hr>\n",
    "\n",
    "In this exercise, you will write a class `MarkovModel` to `fit` an n-gram model of language and generated text.\n",
    "\n",
    "The starter code below uses the hyperparameter `n`, which represents the state of the Markov model as the last `n` characters of a given string. In Exercise 1, we explored `n=1` (bigram model), where each state of the Markov model was a single character, and the generation of each character was dependent only on the previous character. We aim to incorporate more context to produce more intelligible text. For instance, with `n=3`, the probability distribution for the next character will be based on the preceding three characters. \n",
    "\n",
    "> Note that `n` in the term n-gram does not exactly correspond to the variable `n` in our implementation below. Instead `n` refers to the number of previous time steps to use as a context. For 2-gram (bigram) the value of the variable `n` is 1 which means considering one previous time step as context. For 4-gram the value of `n` is 3 which means considering three previous time steps as context.    \n",
    "\n",
    "To train our model, we record every occurrence of each n-gram and the subsequent character. Then, similar to the approach in naive Bayes, we normalize these counts to probabilities for each n-gram. The `fit` function implements these steps. \n",
    "\n",
    "To generate a new sequence, we start with some initial seed at least of length `n`. You can explicitly pass this seed when you call the `generate` method. By default, we will just use the first `n` characters in the training text as the seed, which are saved at the end of the `fit` function. Then, for the current n-gram we will look up the probability distribution over next characters and sample a character according to this distribution.\n",
    "\n",
    "Attribution: assignment adapted with permission from Princeton COS 126, [_Markov Model of Natural Language_]( http://www.cs.princeton.edu/courses/archive/fall15/cos126/assignments/markov.html). Original assignment was developed by Bob Sedgewick and Kevin Wayne. If you are interested in more background info, you can take a look at the original version. The original paper by Shannon, [A Mathematical Theory of Communication](http://math.harvard.edu/~ctm/home/text/others/shannon/entropy/entropy.pdf), essentially created the field of information theory and is one of the best scientific papers ever written (in terms of both impact and readability).  "
   ]
  },
  {
   "cell_type": "markdown",
   "metadata": {},
   "source": [
    "In order to use the recipe [dataset](https://www.kaggle.com/datasets/shuyangli94/food-com-recipes-and-user-interactions)\n",
    "\n",
    "1. Click `+ Add Input` at the top right of the notebook. Click on the \"Dataset\"\n",
    "\n",
    "2. Search for 'food-com-recipes-and-user-interactions'. Several datasets will appear. Look for and 'Add' the dataset with the size of 280MB.\n",
    "\n",
    "3. Run the follow cells for preparation of the data and model training setup."
   ]
  },
  {
   "cell_type": "code",
   "execution_count": null,
   "metadata": {
    "execution": {
     "iopub.execute_input": "2024-12-07T04:44:34.902440Z",
     "iopub.status.busy": "2024-12-07T04:44:34.902072Z",
     "iopub.status.idle": "2024-12-07T04:44:34.910962Z",
     "shell.execute_reply": "2024-12-07T04:44:34.910057Z",
     "shell.execute_reply.started": "2024-12-07T04:44:34.902408Z"
    },
    "trusted": true
   },
   "outputs": [],
   "source": [
    "class MarkovModel:\n",
    "    def __init__(self, n):\n",
    "        \"\"\"\n",
    "        Initialize the Markov model object.\n",
    "\n",
    "        Parameters:\n",
    "        ----------\n",
    "        n : int\n",
    "            the size of the ngram\n",
    "        \"\"\"\n",
    "        self.n = n\n",
    "        self.probabilities_ = None\n",
    "        self.frequencies_ = None\n",
    "        self.starting_chars = None\n",
    "\n",
    "    def fit(self, text):\n",
    "        \"\"\"\n",
    "        Fit a Markov model and create a transition matrix.\n",
    "\n",
    "        Parameters\n",
    "        ----------\n",
    "        text : str\n",
    "            a corpus of text\n",
    "        \"\"\"\n",
    "\n",
    "        # Store the first n characters of the training text, as we will use these\n",
    "        # to seed our `generate` function\n",
    "        self.starting_chars = text[: self.n]\n",
    "\n",
    "        # Make text circular so markov chain doesn't get stuck\n",
    "        circ_text = text + text[: self.n]\n",
    "\n",
    "        # Step 1: Compute frequencies\n",
    "        # count the number of occurrences of each letter following a given n-gram\n",
    "        frequencies = defaultdict(Counter)\n",
    "        for i in range(len(text)):\n",
    "            frequencies[circ_text[i : i + self.n]][circ_text[i + self.n]] += 1.0\n",
    "\n",
    "        # Step 2: Normalize the frequencies into probabilities\n",
    "        self.probabilities_ = defaultdict(dict)\n",
    "        for ngram, counts in frequencies.items():\n",
    "            self.probabilities_[ngram][\"symbols\"] = list(counts.keys())\n",
    "            probs = np.array(list(counts.values()))\n",
    "            probs /= np.sum(probs)\n",
    "            self.probabilities_[ngram][\"probs\"] = probs\n",
    "\n",
    "        self.frequencies_ = frequencies  # you never know when this might come in handy\n",
    "    \n",
    "    def generate(self, seq_len, seed=\"\"):\n",
    "        \"\"\"\n",
    "        Using self.starting_chars, generate a sequence of length seq_len\n",
    "        using the transition matrix created in the fit method.\n",
    "\n",
    "        Parameters\n",
    "        ----------\n",
    "        seq_len : int\n",
    "            the desired length of the sequence\n",
    "        seed : str\n",
    "            the seed for text generation\n",
    "        Returns:\n",
    "        ----------\n",
    "        str\n",
    "            the generated sequence\n",
    "        \"\"\"\n",
    "        if not seed:\n",
    "            s = self.starting_chars\n",
    "        else:\n",
    "            s = seed\n",
    "\n",
    "        while len(s) < seq_len:\n",
    "            current_ngram = s[-self.n :]\n",
    "            probs = self.probabilities_[current_ngram]\n",
    "            s += np.random.choice(probs[\"symbols\"], p=probs[\"probs\"])\n",
    "        return s"
   ]
  },
  {
   "cell_type": "code",
   "execution_count": null,
   "metadata": {
    "execution": {
     "iopub.execute_input": "2024-12-07T04:48:10.909445Z",
     "iopub.status.busy": "2024-12-07T04:48:10.909092Z",
     "iopub.status.idle": "2024-12-07T04:48:14.880184Z",
     "shell.execute_reply": "2024-12-07T04:48:14.879373Z",
     "shell.execute_reply.started": "2024-12-07T04:48:10.909415Z"
    },
    "trusted": true
   },
   "outputs": [
    {
     "name": "stdout",
     "output_type": "stream",
     "text": [
      "Corpus length: 6569085\n",
      "Corpus sample: arriba   baked winter squash mexican style\n",
      "a bit different  breakfast pizza\n",
      "all in the kitchen  chil\n"
     ]
    }
   ],
   "source": [
    "# Set up data\n",
    "recipes_file = \"/kaggle/input/food-com-recipes-and-user-interactions/RAW_recipes.csv\"\n",
    "orig_recipes_df = pd.read_csv(recipes_file)\n",
    "orig_recipes_df = orig_recipes_df.dropna()\n",
    "corpus = \"\\n\".join(orig_recipes_df[\"name\"].tolist())\n",
    "print(f\"Corpus length: {len(corpus)}\")\n",
    "print(f\"Corpus sample: {corpus[:100]}\")"
   ]
  },
  {
   "cell_type": "markdown",
   "metadata": {},
   "source": [
    "### Novel recipe name generation\n",
    "\n",
    "**Your tasks:**\n",
    "\n",
    "In this exercise, you will train Markov models using the recipe titles in the `corpus` variable above for different values of `n` within the range 1 to 10. For each value of `n`, show generated text comprising at least `100` characters by running the follow cells. \n",
    "\n",
    "Feel free to select any `n` and `seed` of your choice. Please note that the length of your `seed` should be at least `n`."
   ]
  },
  {
   "cell_type": "code",
   "execution_count": null,
   "metadata": {
    "execution": {
     "iopub.execute_input": "2024-12-07T04:52:38.045873Z",
     "iopub.status.busy": "2024-12-07T04:52:38.045533Z",
     "iopub.status.idle": "2024-12-07T04:52:41.374599Z",
     "shell.execute_reply": "2024-12-07T04:52:41.373705Z",
     "shell.execute_reply.started": "2024-12-07T04:52:38.045843Z"
    },
    "trusted": true
   },
   "outputs": [
    {
     "name": "stdout",
     "output_type": "stream",
     "text": [
      "Text generated with n = 3:\n",
      "Generate recipe titles: \n",
      "eggplate gers owns\n",
      "egg mix\n",
      "za double white macadiabetto cabette\n",
      "mus\n",
      "refool dip minut chutney blings\n",
      "\n"
     ]
    }
   ],
   "source": [
    "# Settings\n",
    "n = 3\n",
    "num_characters = 100\n",
    "seed = 'egg'\n",
    "\n",
    "char_model = MarkovModel(n=n)\n",
    "char_model.fit(corpus)\n",
    "print(f\"Text generated with n = {n}:\")\n",
    "print(f\"Generate recipe titles: \\n{char_model.generate(num_characters, seed=seed)}\")"
   ]
  },
  {
   "cell_type": "markdown",
   "metadata": {},
   "source": [
    "### Exercise 1.1 \n",
    "\n",
    "<div class=\"alert alert-info\">\n",
    "\n",
    "**Discussion questions**\n",
    "\n",
    "1. How does the value of `n` affect the quality of generated recipe titles?\n",
    "2. Experiment with different seeds.\n",
    "3. What changes would be required to adapt the model from character-based generation to word-based generation?\n",
    "\n",
    "</div>"
   ]
  },
  {
   "cell_type": "markdown",
   "metadata": {},
   "source": [
    "<div class=\"alert alert-warning\">\n",
    "\n",
    "Type your answer below.\n",
    "    \n",
    "</div>"
   ]
  },
  {
   "cell_type": "markdown",
   "metadata": {},
   "source": [
    "_Type your answer here, replacing this text._"
   ]
  },
  {
   "cell_type": "markdown",
   "metadata": {},
   "source": [
    "## Exercise 2: Sentiment Analysis with LLMs\n",
    "<hr>\n",
    "\n",
    "In this exercise, you'll apply a large language model (LLM) to real-life use cases. Specifically, you'll build a sentiment analysis model to detect sentiment using a Kaggle dataset [on emotion analysis based on text](https://www.kaggle.com/datasets/saurabhshahane/twitter-sentiment-dataset) without building any machine learning on your own.\n",
    "\n",
    "In order to use the dataset.\n",
    "\n",
    "1. Click `+ Add Input` at the top right of the notebook. Click on the \"Dataset\"\n",
    "\n",
    "2. Search for 'emotion-analysis-based-on-text'. Several datasets will appear. Look for and 'Add' the dataset with the size of 33MB.\n",
    "\n",
    "3. Run the follow cell for preparation of the data and model training setup."
   ]
  },
  {
   "cell_type": "code",
   "execution_count": null,
   "metadata": {
    "execution": {
     "iopub.execute_input": "2024-12-07T05:22:42.759176Z",
     "iopub.status.busy": "2024-12-07T05:22:42.758838Z",
     "iopub.status.idle": "2024-12-07T05:22:44.144012Z",
     "shell.execute_reply": "2024-12-07T05:22:44.143080Z",
     "shell.execute_reply.started": "2024-12-07T05:22:42.759147Z"
    },
    "trusted": true
   },
   "outputs": [
    {
     "data": {
      "text/html": [
       "<div>\n",
       "<style scoped>\n",
       "    .dataframe tbody tr th:only-of-type {\n",
       "        vertical-align: middle;\n",
       "    }\n",
       "\n",
       "    .dataframe tbody tr th {\n",
       "        vertical-align: top;\n",
       "    }\n",
       "\n",
       "    .dataframe thead th {\n",
       "        text-align: right;\n",
       "    }\n",
       "</style>\n",
       "<table border=\"1\" class=\"dataframe\">\n",
       "  <thead>\n",
       "    <tr style=\"text-align: right;\">\n",
       "      <th></th>\n",
       "      <th>text</th>\n",
       "    </tr>\n",
       "  </thead>\n",
       "  <tbody>\n",
       "    <tr>\n",
       "      <th>0</th>\n",
       "      <td>i seriously hate one subject to death but now i feel reluctant to drop it</td>\n",
       "    </tr>\n",
       "    <tr>\n",
       "      <th>1</th>\n",
       "      <td>im so full of life i feel appalled</td>\n",
       "    </tr>\n",
       "    <tr>\n",
       "      <th>2</th>\n",
       "      <td>i sit here to write i start to dig out my feelings and i think that i am afraid to accept the possibility that he might not make it</td>\n",
       "    </tr>\n",
       "    <tr>\n",
       "      <th>3</th>\n",
       "      <td>ive been really angry with r and i feel like an idiot for trusting him in the first place</td>\n",
       "    </tr>\n",
       "    <tr>\n",
       "      <th>4</th>\n",
       "      <td>i feel suspicious if there is no one outside like the rapture has happened or something</td>\n",
       "    </tr>\n",
       "    <tr>\n",
       "      <th>...</th>\n",
       "      <td>...</td>\n",
       "    </tr>\n",
       "    <tr>\n",
       "      <th>839550</th>\n",
       "      <td>i feel like telling these horny devils to find a site more suited to that sort of interest the playboy if there is one forum perhaps</td>\n",
       "    </tr>\n",
       "    <tr>\n",
       "      <th>839551</th>\n",
       "      <td>i began to realize that when i was feeling agitated or restless that i would have a thought to go do the dishes</td>\n",
       "    </tr>\n",
       "    <tr>\n",
       "      <th>839552</th>\n",
       "      <td>i feel very curious be why previous early dawn in the time here don t you seek his trouble</td>\n",
       "    </tr>\n",
       "    <tr>\n",
       "      <th>839553</th>\n",
       "      <td>i feel that becuase of the tyranical nature of the government in el salvador and the savage social conditions of the general people that the set of thought to run the shoe shop in miguel marmols t...</td>\n",
       "    </tr>\n",
       "    <tr>\n",
       "      <th>839554</th>\n",
       "      <td>i think that after i had spent some time investigating the surroundings and things i started to feel more curious about other people</td>\n",
       "    </tr>\n",
       "  </tbody>\n",
       "</table>\n",
       "<p>839555 rows × 1 columns</p>\n",
       "</div>"
      ],
      "text/plain": [
       "                                                                                                                                                                                                           text\n",
       "0                                                                                                                                     i seriously hate one subject to death but now i feel reluctant to drop it\n",
       "1                                                                                                                                                                            im so full of life i feel appalled\n",
       "2                                                                           i sit here to write i start to dig out my feelings and i think that i am afraid to accept the possibility that he might not make it\n",
       "3                                                                                                                     ive been really angry with r and i feel like an idiot for trusting him in the first place\n",
       "4                                                                                                                       i feel suspicious if there is no one outside like the rapture has happened or something\n",
       "...                                                                                                                                                                                                         ...\n",
       "839550                                                                     i feel like telling these horny devils to find a site more suited to that sort of interest the playboy if there is one forum perhaps\n",
       "839551                                                                                          i began to realize that when i was feeling agitated or restless that i would have a thought to go do the dishes\n",
       "839552                                                                                                               i feel very curious be why previous early dawn in the time here don t you seek his trouble\n",
       "839553  i feel that becuase of the tyranical nature of the government in el salvador and the savage social conditions of the general people that the set of thought to run the shoe shop in miguel marmols t...\n",
       "839554                                                                     i think that after i had spent some time investigating the surroundings and things i started to feel more curious about other people\n",
       "\n",
       "[839555 rows x 1 columns]"
      ]
     },
     "execution_count": 46,
     "metadata": {},
     "output_type": "execute_result"
    }
   ],
   "source": [
    "# Set up data\n",
    "text_data_file = \"/kaggle/input/emotion-analysis-based-on-text/emotion_sentimen_dataset.csv\"\n",
    "text_df = pd.read_csv(text_data_file, index_col=0)\n",
    "text = text_df['text'].tolist()\n",
    "text_df.drop(columns=['Emotion'])"
   ]
  },
  {
   "cell_type": "markdown",
   "metadata": {},
   "source": [
    "### Binary Sentiment Analyzer"
   ]
  },
  {
   "cell_type": "markdown",
   "metadata": {},
   "source": [
    "Let's predict whether a given text is positive or negative for a sample using a pre-trained large language model (LLM)."
   ]
  },
  {
   "cell_type": "code",
   "execution_count": null,
   "metadata": {
    "trusted": true
   },
   "outputs": [],
   "source": [
    "# Set up model\n",
    "model_name = \"facebook/bart-large-mnli\"\n",
    "classifier = pipeline(\"zero-shot-classification\", model=model_name)\n",
    "candidate_labels = [\"positive\", \"negative\"]\n",
    "\n",
    "def sentiment_analyzer(classifier, text, candidate_labels):\n",
    "    results = classifier(text, candidate_labels)\n",
    "    return pd.DataFrame(results)"
   ]
  },
  {
   "cell_type": "code",
   "execution_count": null,
   "metadata": {
    "execution": {
     "iopub.execute_input": "2024-12-07T05:15:39.418248Z",
     "iopub.status.busy": "2024-12-07T05:15:39.417577Z",
     "iopub.status.idle": "2024-12-07T05:15:51.758205Z",
     "shell.execute_reply": "2024-12-07T05:15:51.757339Z",
     "shell.execute_reply.started": "2024-12-07T05:15:39.418211Z"
    },
    "trusted": true
   },
   "outputs": [
    {
     "data": {
      "text/html": [
       "<div>\n",
       "<style scoped>\n",
       "    .dataframe tbody tr th:only-of-type {\n",
       "        vertical-align: middle;\n",
       "    }\n",
       "\n",
       "    .dataframe tbody tr th {\n",
       "        vertical-align: top;\n",
       "    }\n",
       "\n",
       "    .dataframe thead th {\n",
       "        text-align: right;\n",
       "    }\n",
       "</style>\n",
       "<table border=\"1\" class=\"dataframe\">\n",
       "  <thead>\n",
       "    <tr style=\"text-align: right;\">\n",
       "      <th></th>\n",
       "      <th>sequence</th>\n",
       "      <th>labels</th>\n",
       "      <th>scores</th>\n",
       "    </tr>\n",
       "  </thead>\n",
       "  <tbody>\n",
       "    <tr>\n",
       "      <th>0</th>\n",
       "      <td>i feel so bitchy and mean and terrible</td>\n",
       "      <td>[negative, positive]</td>\n",
       "      <td>[0.9988974332809448, 0.0011025459971278906]</td>\n",
       "    </tr>\n",
       "    <tr>\n",
       "      <th>1</th>\n",
       "      <td>i feel envious that they can keep their posts regular and interesting and wish that i could feel this way to</td>\n",
       "      <td>[positive, negative]</td>\n",
       "      <td>[0.8356948494911194, 0.16430513560771942]</td>\n",
       "    </tr>\n",
       "    <tr>\n",
       "      <th>2</th>\n",
       "      <td>i feel like him try to stay as faithful as possible to what he perceives as the real events that happened in that mountain</td>\n",
       "      <td>[positive, negative]</td>\n",
       "      <td>[0.6364914774894714, 0.36350852251052856]</td>\n",
       "    </tr>\n",
       "    <tr>\n",
       "      <th>3</th>\n",
       "      <td>i feel assaulted the new kid whined</td>\n",
       "      <td>[negative, positive]</td>\n",
       "      <td>[0.992742121219635, 0.007257890421897173]</td>\n",
       "    </tr>\n",
       "    <tr>\n",
       "      <th>4</th>\n",
       "      <td>ive had a long road of that initially feeling like i was being rude for turning down food that was made brought for me and sometimes eating stuff because it was gluten free and looked delicious ev...</td>\n",
       "      <td>[negative, positive]</td>\n",
       "      <td>[0.744864821434021, 0.25513511896133423]</td>\n",
       "    </tr>\n",
       "    <tr>\n",
       "      <th>5</th>\n",
       "      <td>i wanted to make sure i didnt feel rushed getting to century college on friday afternoon</td>\n",
       "      <td>[negative, positive]</td>\n",
       "      <td>[0.5005356073379517, 0.4994644224643707]</td>\n",
       "    </tr>\n",
       "    <tr>\n",
       "      <th>6</th>\n",
       "      <td>id kick myself into gear but i just feel irritable with no motivation what so ever</td>\n",
       "      <td>[negative, positive]</td>\n",
       "      <td>[0.994518518447876, 0.005481455009430647]</td>\n",
       "    </tr>\n",
       "    <tr>\n",
       "      <th>7</th>\n",
       "      <td>i feel so much more productive at college and so to keep that productivity in full gear ill have to chalk up some ideas for art projects this summer train an army of attack pigeons and take over a...</td>\n",
       "      <td>[positive, negative]</td>\n",
       "      <td>[0.8941780924797058, 0.10582192242145538]</td>\n",
       "    </tr>\n",
       "    <tr>\n",
       "      <th>8</th>\n",
       "      <td>i have a feeling that your father already convinced him of that</td>\n",
       "      <td>[positive, negative]</td>\n",
       "      <td>[0.56349116563797, 0.43650877475738525]</td>\n",
       "    </tr>\n",
       "    <tr>\n",
       "      <th>9</th>\n",
       "      <td>i feel im not bothered by that</td>\n",
       "      <td>[positive, negative]</td>\n",
       "      <td>[0.6332223415374756, 0.366777628660202]</td>\n",
       "    </tr>\n",
       "    <tr>\n",
       "      <th>10</th>\n",
       "      <td>i p i could sit here and beat myself up over it all but im feeling far to rebellious for that today basically im feeling angry at the world and at myself all at the same time</td>\n",
       "      <td>[negative, positive]</td>\n",
       "      <td>[0.9932478070259094, 0.006752179004251957]</td>\n",
       "    </tr>\n",
       "    <tr>\n",
       "      <th>11</th>\n",
       "      <td>im totally feeling bitchy and resentful about it</td>\n",
       "      <td>[negative, positive]</td>\n",
       "      <td>[0.9979182481765747, 0.0020817923359572887]</td>\n",
       "    </tr>\n",
       "    <tr>\n",
       "      <th>12</th>\n",
       "      <td>i drove to class i was feeling a little apprehensive but still no sweat</td>\n",
       "      <td>[positive, negative]</td>\n",
       "      <td>[0.8912939429283142, 0.10870607197284698]</td>\n",
       "    </tr>\n",
       "    <tr>\n",
       "      <th>13</th>\n",
       "      <td>i feel so wronged but what can i do</td>\n",
       "      <td>[negative, positive]</td>\n",
       "      <td>[0.9927572011947632, 0.007242826744914055]</td>\n",
       "    </tr>\n",
       "    <tr>\n",
       "      <th>14</th>\n",
       "      <td>i feel so weird that it feels like i wanna curse everything and bang my head onto the wall so that my world will be back to its focus</td>\n",
       "      <td>[negative, positive]</td>\n",
       "      <td>[0.9969512224197388, 0.0030487775802612305]</td>\n",
       "    </tr>\n",
       "    <tr>\n",
       "      <th>15</th>\n",
       "      <td>i feel suspicious of wrinkle prevention beauty products for some reason</td>\n",
       "      <td>[negative, positive]</td>\n",
       "      <td>[0.9746649265289307, 0.025335021317005157]</td>\n",
       "    </tr>\n",
       "    <tr>\n",
       "      <th>16</th>\n",
       "      <td>i feel you see frantic and thus i am afraid</td>\n",
       "      <td>[negative, positive]</td>\n",
       "      <td>[0.9803784489631653, 0.019621530547738075]</td>\n",
       "    </tr>\n",
       "    <tr>\n",
       "      <th>17</th>\n",
       "      <td>i am feeling so grumpy today</td>\n",
       "      <td>[negative, positive]</td>\n",
       "      <td>[0.9973229169845581, 0.0026771207340061665]</td>\n",
       "    </tr>\n",
       "    <tr>\n",
       "      <th>18</th>\n",
       "      <td>i feel that i have gotten to know the students pretty well and i talk to the parents if they drop their students off for the day</td>\n",
       "      <td>[positive, negative]</td>\n",
       "      <td>[0.9201583862304688, 0.07984159141778946]</td>\n",
       "    </tr>\n",
       "    <tr>\n",
       "      <th>19</th>\n",
       "      <td>i cant help but feel suspicious of everything</td>\n",
       "      <td>[negative, positive]</td>\n",
       "      <td>[0.9900898337364197, 0.009910174645483494]</td>\n",
       "    </tr>\n",
       "  </tbody>\n",
       "</table>\n",
       "</div>"
      ],
      "text/plain": [
       "                                                                                                                                                                                                   sequence  \\\n",
       "0                                                                                                                                                                    i feel so bitchy and mean and terrible   \n",
       "1                                                                                              i feel envious that they can keep their posts regular and interesting and wish that i could feel this way to   \n",
       "2                                                                                i feel like him try to stay as faithful as possible to what he perceives as the real events that happened in that mountain   \n",
       "3                                                                                                                                                                       i feel assaulted the new kid whined   \n",
       "4   ive had a long road of that initially feeling like i was being rude for turning down food that was made brought for me and sometimes eating stuff because it was gluten free and looked delicious ev...   \n",
       "5                                                                                                                  i wanted to make sure i didnt feel rushed getting to century college on friday afternoon   \n",
       "6                                                                                                                        id kick myself into gear but i just feel irritable with no motivation what so ever   \n",
       "7   i feel so much more productive at college and so to keep that productivity in full gear ill have to chalk up some ideas for art projects this summer train an army of attack pigeons and take over a...   \n",
       "8                                                                                                                                           i have a feeling that your father already convinced him of that   \n",
       "9                                                                                                                                                                            i feel im not bothered by that   \n",
       "10                           i p i could sit here and beat myself up over it all but im feeling far to rebellious for that today basically im feeling angry at the world and at myself all at the same time   \n",
       "11                                                                                                                                                         im totally feeling bitchy and resentful about it   \n",
       "12                                                                                                                                  i drove to class i was feeling a little apprehensive but still no sweat   \n",
       "13                                                                                                                                                                      i feel so wronged but what can i do   \n",
       "14                                                                    i feel so weird that it feels like i wanna curse everything and bang my head onto the wall so that my world will be back to its focus   \n",
       "15                                                                                                                                  i feel suspicious of wrinkle prevention beauty products for some reason   \n",
       "16                                                                                                                                                              i feel you see frantic and thus i am afraid   \n",
       "17                                                                                                                                                                             i am feeling so grumpy today   \n",
       "18                                                                         i feel that i have gotten to know the students pretty well and i talk to the parents if they drop their students off for the day   \n",
       "19                                                                                                                                                            i cant help but feel suspicious of everything   \n",
       "\n",
       "                  labels                                       scores  \n",
       "0   [negative, positive]  [0.9988974332809448, 0.0011025459971278906]  \n",
       "1   [positive, negative]    [0.8356948494911194, 0.16430513560771942]  \n",
       "2   [positive, negative]    [0.6364914774894714, 0.36350852251052856]  \n",
       "3   [negative, positive]    [0.992742121219635, 0.007257890421897173]  \n",
       "4   [negative, positive]     [0.744864821434021, 0.25513511896133423]  \n",
       "5   [negative, positive]     [0.5005356073379517, 0.4994644224643707]  \n",
       "6   [negative, positive]    [0.994518518447876, 0.005481455009430647]  \n",
       "7   [positive, negative]    [0.8941780924797058, 0.10582192242145538]  \n",
       "8   [positive, negative]      [0.56349116563797, 0.43650877475738525]  \n",
       "9   [positive, negative]      [0.6332223415374756, 0.366777628660202]  \n",
       "10  [negative, positive]   [0.9932478070259094, 0.006752179004251957]  \n",
       "11  [negative, positive]  [0.9979182481765747, 0.0020817923359572887]  \n",
       "12  [positive, negative]    [0.8912939429283142, 0.10870607197284698]  \n",
       "13  [negative, positive]   [0.9927572011947632, 0.007242826744914055]  \n",
       "14  [negative, positive]  [0.9969512224197388, 0.0030487775802612305]  \n",
       "15  [negative, positive]   [0.9746649265289307, 0.025335021317005157]  \n",
       "16  [negative, positive]   [0.9803784489631653, 0.019621530547738075]  \n",
       "17  [negative, positive]  [0.9973229169845581, 0.0026771207340061665]  \n",
       "18  [positive, negative]    [0.9201583862304688, 0.07984159141778946]  \n",
       "19  [negative, positive]   [0.9900898337364197, 0.009910174645483494]  "
      ]
     },
     "execution_count": 37,
     "metadata": {},
     "output_type": "execute_result"
    }
   ],
   "source": [
    "results = sentiment_analyzer(classifier, text[100:120], candidate_labels)\n",
    "results"
   ]
  },
  {
   "cell_type": "markdown",
   "metadata": {},
   "source": [
    "Observe the output above. The labels are sorted based on their corresponding scores. A higher score in the scores column indicates that the model predicts a higher probability of the text belonging to the corresponding sentiment label."
   ]
  },
  {
   "cell_type": "markdown",
   "metadata": {},
   "source": [
    "### Exercise 2.1 \n",
    "\n",
    "<div class=\"alert alert-info\">\n",
    "\n",
    "**Discussion questions**\n",
    "\n",
    "1. To what extent do you agree with the model's predictions?\n",
    "2. Do you find the corresponding scores helpful?   \n",
    "</div>"
   ]
  },
  {
   "cell_type": "markdown",
   "metadata": {},
   "source": [
    "<div class=\"alert alert-warning\">\n",
    "\n",
    "Type your answer below.\n",
    "    \n",
    "</div>"
   ]
  },
  {
   "cell_type": "markdown",
   "metadata": {},
   "source": [
    "_Type your answer here, replacing this text._"
   ]
  },
  {
   "cell_type": "markdown",
   "metadata": {},
   "source": [
    "### Multiclass Sentiment Analyzer"
   ]
  },
  {
   "cell_type": "markdown",
   "metadata": {},
   "source": [
    "It’s impressive that we were able to perform sentiment analysis without having to build a machine learning model from scratch.\n",
    "\n",
    "But what if our goal isn’t sentiment analysis, but emotion classification instead? For example, we might want to assign emotion labels like “joy,” “anger,” “fear,” or “surprise” to a given text.\n",
    "\n",
    "In this exercise, you’ll use a pre-trained LLM to classify the emotions expressed in text into different categories based on their content. To start, we’ll focus on four emotions: sadness, joy, anger, and fear. Feel free to experiment by adding more emotions to the list below."
   ]
  },
  {
   "cell_type": "code",
   "execution_count": null,
   "metadata": {
    "execution": {
     "iopub.execute_input": "2024-12-07T05:40:30.609842Z",
     "iopub.status.busy": "2024-12-07T05:40:30.609496Z",
     "iopub.status.idle": "2024-12-07T05:40:54.883152Z",
     "shell.execute_reply": "2024-12-07T05:40:54.882431Z",
     "shell.execute_reply.started": "2024-12-07T05:40:30.609812Z"
    },
    "trusted": true
   },
   "outputs": [
    {
     "data": {
      "text/html": [
       "<div>\n",
       "<style scoped>\n",
       "    .dataframe tbody tr th:only-of-type {\n",
       "        vertical-align: middle;\n",
       "    }\n",
       "\n",
       "    .dataframe tbody tr th {\n",
       "        vertical-align: top;\n",
       "    }\n",
       "\n",
       "    .dataframe thead th {\n",
       "        text-align: right;\n",
       "    }\n",
       "</style>\n",
       "<table border=\"1\" class=\"dataframe\">\n",
       "  <thead>\n",
       "    <tr style=\"text-align: right;\">\n",
       "      <th></th>\n",
       "      <th>sequence</th>\n",
       "      <th>labels</th>\n",
       "      <th>scores</th>\n",
       "    </tr>\n",
       "  </thead>\n",
       "  <tbody>\n",
       "    <tr>\n",
       "      <th>0</th>\n",
       "      <td>i feel so bitchy and mean and terrible</td>\n",
       "      <td>[anger, sadness, fear, joy]</td>\n",
       "      <td>[0.8007116913795471, 0.09371344745159149, 0.08626462519168854, 0.019310249015688896]</td>\n",
       "    </tr>\n",
       "    <tr>\n",
       "      <th>1</th>\n",
       "      <td>i feel envious that they can keep their posts regular and interesting and wish that i could feel this way to</td>\n",
       "      <td>[joy, fear, anger, sadness]</td>\n",
       "      <td>[0.6435434818267822, 0.19157443940639496, 0.10337210446596146, 0.06151002272963524]</td>\n",
       "    </tr>\n",
       "    <tr>\n",
       "      <th>2</th>\n",
       "      <td>i feel like him try to stay as faithful as possible to what he perceives as the real events that happened in that mountain</td>\n",
       "      <td>[joy, sadness, fear, anger]</td>\n",
       "      <td>[0.2922940254211426, 0.26815667748451233, 0.2677202522754669, 0.17182902991771698]</td>\n",
       "    </tr>\n",
       "    <tr>\n",
       "      <th>3</th>\n",
       "      <td>i feel assaulted the new kid whined</td>\n",
       "      <td>[fear, anger, sadness, joy]</td>\n",
       "      <td>[0.5187891125679016, 0.37239357829093933, 0.09594806283712387, 0.012869243510067463]</td>\n",
       "    </tr>\n",
       "    <tr>\n",
       "      <th>4</th>\n",
       "      <td>ive had a long road of that initially feeling like i was being rude for turning down food that was made brought for me and sometimes eating stuff because it was gluten free and looked delicious ev...</td>\n",
       "      <td>[fear, anger, sadness, joy]</td>\n",
       "      <td>[0.3495464622974396, 0.2813415825366974, 0.2779979705810547, 0.09111393243074417]</td>\n",
       "    </tr>\n",
       "    <tr>\n",
       "      <th>5</th>\n",
       "      <td>i wanted to make sure i didnt feel rushed getting to century college on friday afternoon</td>\n",
       "      <td>[fear, anger, joy, sadness]</td>\n",
       "      <td>[0.32988637685775757, 0.2607493996620178, 0.2439214289188385, 0.1654428392648697]</td>\n",
       "    </tr>\n",
       "    <tr>\n",
       "      <th>6</th>\n",
       "      <td>id kick myself into gear but i just feel irritable with no motivation what so ever</td>\n",
       "      <td>[anger, sadness, fear, joy]</td>\n",
       "      <td>[0.7852703928947449, 0.16335178911685944, 0.04470366984605789, 0.006674142088741064]</td>\n",
       "    </tr>\n",
       "    <tr>\n",
       "      <th>7</th>\n",
       "      <td>i feel so much more productive at college and so to keep that productivity in full gear ill have to chalk up some ideas for art projects this summer train an army of attack pigeons and take over a...</td>\n",
       "      <td>[joy, anger, fear, sadness]</td>\n",
       "      <td>[0.5857755541801453, 0.1808997094631195, 0.16850124299526215, 0.06482349336147308]</td>\n",
       "    </tr>\n",
       "    <tr>\n",
       "      <th>8</th>\n",
       "      <td>i have a feeling that your father already convinced him of that</td>\n",
       "      <td>[fear, anger, joy, sadness]</td>\n",
       "      <td>[0.34493106603622437, 0.2393622249364853, 0.21529953181743622, 0.20040714740753174]</td>\n",
       "    </tr>\n",
       "    <tr>\n",
       "      <th>9</th>\n",
       "      <td>i feel im not bothered by that</td>\n",
       "      <td>[joy, sadness, anger, fear]</td>\n",
       "      <td>[0.3522316813468933, 0.24559812247753143, 0.20260685682296753, 0.19956329464912415]</td>\n",
       "    </tr>\n",
       "    <tr>\n",
       "      <th>10</th>\n",
       "      <td>i p i could sit here and beat myself up over it all but im feeling far to rebellious for that today basically im feeling angry at the world and at myself all at the same time</td>\n",
       "      <td>[anger, sadness, fear, joy]</td>\n",
       "      <td>[0.9315122961997986, 0.04651189222931862, 0.01755928434431553, 0.004416553303599358]</td>\n",
       "    </tr>\n",
       "    <tr>\n",
       "      <th>11</th>\n",
       "      <td>im totally feeling bitchy and resentful about it</td>\n",
       "      <td>[anger, sadness, fear, joy]</td>\n",
       "      <td>[0.9454693794250488, 0.03197461739182472, 0.01816459745168686, 0.004391387104988098]</td>\n",
       "    </tr>\n",
       "    <tr>\n",
       "      <th>12</th>\n",
       "      <td>i drove to class i was feeling a little apprehensive but still no sweat</td>\n",
       "      <td>[fear, sadness, anger, joy]</td>\n",
       "      <td>[0.8902419805526733, 0.04206376522779465, 0.041212160140275955, 0.02648204378783703]</td>\n",
       "    </tr>\n",
       "    <tr>\n",
       "      <th>13</th>\n",
       "      <td>i feel so wronged but what can i do</td>\n",
       "      <td>[sadness, anger, fear, joy]</td>\n",
       "      <td>[0.6093181371688843, 0.29416850209236145, 0.08982561528682709, 0.0066877868957817554]</td>\n",
       "    </tr>\n",
       "    <tr>\n",
       "      <th>14</th>\n",
       "      <td>i feel so weird that it feels like i wanna curse everything and bang my head onto the wall so that my world will be back to its focus</td>\n",
       "      <td>[anger, sadness, fear, joy]</td>\n",
       "      <td>[0.7988373637199402, 0.15413466095924377, 0.04267137125134468, 0.004356673453003168]</td>\n",
       "    </tr>\n",
       "    <tr>\n",
       "      <th>15</th>\n",
       "      <td>i feel suspicious of wrinkle prevention beauty products for some reason</td>\n",
       "      <td>[fear, anger, sadness, joy]</td>\n",
       "      <td>[0.917218804359436, 0.04061884805560112, 0.02941500023007393, 0.01274731196463108]</td>\n",
       "    </tr>\n",
       "    <tr>\n",
       "      <th>16</th>\n",
       "      <td>i feel you see frantic and thus i am afraid</td>\n",
       "      <td>[fear, anger, sadness, joy]</td>\n",
       "      <td>[0.9751904606819153, 0.020713001489639282, 0.0027280456852167845, 0.0013684690929949284]</td>\n",
       "    </tr>\n",
       "    <tr>\n",
       "      <th>17</th>\n",
       "      <td>i am feeling so grumpy today</td>\n",
       "      <td>[anger, sadness, fear, joy]</td>\n",
       "      <td>[0.5841122269630432, 0.3442891836166382, 0.061325252056121826, 0.010273306630551815]</td>\n",
       "    </tr>\n",
       "    <tr>\n",
       "      <th>18</th>\n",
       "      <td>i feel that i have gotten to know the students pretty well and i talk to the parents if they drop their students off for the day</td>\n",
       "      <td>[joy, fear, anger, sadness]</td>\n",
       "      <td>[0.49992093443870544, 0.23103681206703186, 0.1407071202993393, 0.12833507359027863]</td>\n",
       "    </tr>\n",
       "    <tr>\n",
       "      <th>19</th>\n",
       "      <td>i cant help but feel suspicious of everything</td>\n",
       "      <td>[fear, anger, sadness, joy]</td>\n",
       "      <td>[0.6875852942466736, 0.21783670783042908, 0.07323317974805832, 0.021344784647226334]</td>\n",
       "    </tr>\n",
       "  </tbody>\n",
       "</table>\n",
       "</div>"
      ],
      "text/plain": [
       "                                                                                                                                                                                                   sequence  \\\n",
       "0                                                                                                                                                                    i feel so bitchy and mean and terrible   \n",
       "1                                                                                              i feel envious that they can keep their posts regular and interesting and wish that i could feel this way to   \n",
       "2                                                                                i feel like him try to stay as faithful as possible to what he perceives as the real events that happened in that mountain   \n",
       "3                                                                                                                                                                       i feel assaulted the new kid whined   \n",
       "4   ive had a long road of that initially feeling like i was being rude for turning down food that was made brought for me and sometimes eating stuff because it was gluten free and looked delicious ev...   \n",
       "5                                                                                                                  i wanted to make sure i didnt feel rushed getting to century college on friday afternoon   \n",
       "6                                                                                                                        id kick myself into gear but i just feel irritable with no motivation what so ever   \n",
       "7   i feel so much more productive at college and so to keep that productivity in full gear ill have to chalk up some ideas for art projects this summer train an army of attack pigeons and take over a...   \n",
       "8                                                                                                                                           i have a feeling that your father already convinced him of that   \n",
       "9                                                                                                                                                                            i feel im not bothered by that   \n",
       "10                           i p i could sit here and beat myself up over it all but im feeling far to rebellious for that today basically im feeling angry at the world and at myself all at the same time   \n",
       "11                                                                                                                                                         im totally feeling bitchy and resentful about it   \n",
       "12                                                                                                                                  i drove to class i was feeling a little apprehensive but still no sweat   \n",
       "13                                                                                                                                                                      i feel so wronged but what can i do   \n",
       "14                                                                    i feel so weird that it feels like i wanna curse everything and bang my head onto the wall so that my world will be back to its focus   \n",
       "15                                                                                                                                  i feel suspicious of wrinkle prevention beauty products for some reason   \n",
       "16                                                                                                                                                              i feel you see frantic and thus i am afraid   \n",
       "17                                                                                                                                                                             i am feeling so grumpy today   \n",
       "18                                                                         i feel that i have gotten to know the students pretty well and i talk to the parents if they drop their students off for the day   \n",
       "19                                                                                                                                                            i cant help but feel suspicious of everything   \n",
       "\n",
       "                         labels  \\\n",
       "0   [anger, sadness, fear, joy]   \n",
       "1   [joy, fear, anger, sadness]   \n",
       "2   [joy, sadness, fear, anger]   \n",
       "3   [fear, anger, sadness, joy]   \n",
       "4   [fear, anger, sadness, joy]   \n",
       "5   [fear, anger, joy, sadness]   \n",
       "6   [anger, sadness, fear, joy]   \n",
       "7   [joy, anger, fear, sadness]   \n",
       "8   [fear, anger, joy, sadness]   \n",
       "9   [joy, sadness, anger, fear]   \n",
       "10  [anger, sadness, fear, joy]   \n",
       "11  [anger, sadness, fear, joy]   \n",
       "12  [fear, sadness, anger, joy]   \n",
       "13  [sadness, anger, fear, joy]   \n",
       "14  [anger, sadness, fear, joy]   \n",
       "15  [fear, anger, sadness, joy]   \n",
       "16  [fear, anger, sadness, joy]   \n",
       "17  [anger, sadness, fear, joy]   \n",
       "18  [joy, fear, anger, sadness]   \n",
       "19  [fear, anger, sadness, joy]   \n",
       "\n",
       "                                                                                      scores  \n",
       "0       [0.8007116913795471, 0.09371344745159149, 0.08626462519168854, 0.019310249015688896]  \n",
       "1        [0.6435434818267822, 0.19157443940639496, 0.10337210446596146, 0.06151002272963524]  \n",
       "2         [0.2922940254211426, 0.26815667748451233, 0.2677202522754669, 0.17182902991771698]  \n",
       "3       [0.5187891125679016, 0.37239357829093933, 0.09594806283712387, 0.012869243510067463]  \n",
       "4          [0.3495464622974396, 0.2813415825366974, 0.2779979705810547, 0.09111393243074417]  \n",
       "5          [0.32988637685775757, 0.2607493996620178, 0.2439214289188385, 0.1654428392648697]  \n",
       "6       [0.7852703928947449, 0.16335178911685944, 0.04470366984605789, 0.006674142088741064]  \n",
       "7         [0.5857755541801453, 0.1808997094631195, 0.16850124299526215, 0.06482349336147308]  \n",
       "8        [0.34493106603622437, 0.2393622249364853, 0.21529953181743622, 0.20040714740753174]  \n",
       "9        [0.3522316813468933, 0.24559812247753143, 0.20260685682296753, 0.19956329464912415]  \n",
       "10      [0.9315122961997986, 0.04651189222931862, 0.01755928434431553, 0.004416553303599358]  \n",
       "11      [0.9454693794250488, 0.03197461739182472, 0.01816459745168686, 0.004391387104988098]  \n",
       "12      [0.8902419805526733, 0.04206376522779465, 0.041212160140275955, 0.02648204378783703]  \n",
       "13     [0.6093181371688843, 0.29416850209236145, 0.08982561528682709, 0.0066877868957817554]  \n",
       "14      [0.7988373637199402, 0.15413466095924377, 0.04267137125134468, 0.004356673453003168]  \n",
       "15        [0.917218804359436, 0.04061884805560112, 0.02941500023007393, 0.01274731196463108]  \n",
       "16  [0.9751904606819153, 0.020713001489639282, 0.0027280456852167845, 0.0013684690929949284]  \n",
       "17      [0.5841122269630432, 0.3442891836166382, 0.061325252056121826, 0.010273306630551815]  \n",
       "18       [0.49992093443870544, 0.23103681206703186, 0.1407071202993393, 0.12833507359027863]  \n",
       "19      [0.6875852942466736, 0.21783670783042908, 0.07323317974805832, 0.021344784647226334]  "
      ]
     },
     "execution_count": 48,
     "metadata": {},
     "output_type": "execute_result"
    }
   ],
   "source": [
    "candidate_labels = [\"sadness\", \"joy\", \"anger\", \"fear\"]\n",
    "\n",
    "results = sentiment_analyzer(classifier, text[100:120], candidate_labels)\n",
    "results"
   ]
  },
  {
   "cell_type": "markdown",
   "metadata": {},
   "source": [
    "### Exercise 2.2\n",
    "\n",
    "<div class=\"alert alert-info\">\n",
    "\n",
    "**Discussion questions**\n",
    "\n",
    "1. To what extent do you agree with the model's predictions?\n",
    "2. Do you find the corresponding scores helpful?   \n",
    "</div>"
   ]
  },
  {
   "cell_type": "markdown",
   "metadata": {},
   "source": [
    "<div class=\"alert alert-warning\">\n",
    "\n",
    "Type your answer below.\n",
    "    \n",
    "</div>"
   ]
  },
  {
   "cell_type": "markdown",
   "metadata": {},
   "source": [
    "_Type your answer here, replacing this text._"
   ]
  },
  {
   "cell_type": "markdown",
   "metadata": {},
   "source": [
    "### Your Free Time (Optional)"
   ]
  },
  {
   "cell_type": "markdown",
   "metadata": {},
   "source": [
    "**Your tasks**:\n",
    "\n",
    "You can use any text dataset you like and customize the labels by replacing the items marked with ... to build your own classification model!\n",
    "\n",
    "Feel free to share your ideas and insights with your teammates and the teaching team."
   ]
  },
  {
   "cell_type": "code",
   "execution_count": null,
   "metadata": {
    "trusted": true
   },
   "outputs": [],
   "source": [
    "candidate_labels = ...\n",
    "text = ...\n",
    "\n",
    "results = sentiment_analyzer(classifier, text, candidate_labels)\n",
    "results"
   ]
  }
 ],
 "metadata": {
  "anaconda-cloud": {},
  "kaggle": {
   "accelerator": "gpu",
   "dataSources": [
    {
     "datasetId": 23777,
     "sourceId": 30378,
     "sourceType": "datasetVersion"
    },
    {
     "datasetId": 2529046,
     "sourceId": 4292212,
     "sourceType": "datasetVersion"
    },
    {
     "datasetId": 311962,
     "sourceId": 783630,
     "sourceType": "datasetVersion"
    },
    {
     "datasetId": 695933,
     "sourceId": 1217821,
     "sourceType": "datasetVersion"
    },
    {
     "datasetId": 4540583,
     "sourceId": 7763359,
     "sourceType": "datasetVersion"
    },
    {
     "datasetId": 1340873,
     "sourceId": 2231927,
     "sourceType": "datasetVersion"
    }
   ],
   "dockerImageVersionId": 30805,
   "isGpuEnabled": true,
   "isInternetEnabled": true,
   "language": "python",
   "sourceType": "notebook"
  },
  "kernelspec": {
   "display_name": "ml-workshop",
   "language": "python",
   "name": "python3"
  },
  "language_info": {
   "codemirror_mode": {
    "name": "ipython",
    "version": 3
   },
   "file_extension": ".py",
   "mimetype": "text/x-python",
   "name": "python",
   "nbconvert_exporter": "python",
   "pygments_lexer": "ipython3",
   "version": "3.12.0"
  }
 },
 "nbformat": 4,
 "nbformat_minor": 4
}
